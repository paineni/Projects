{
 "cells": [
  {
   "cell_type": "code",
   "execution_count": null,
   "metadata": {},
   "outputs": [],
   "source": [
    "import fiftyone as fo\n",
    "from detectron2.structures import BoxMode\n",
    "import sys\n",
    "\n",
    "# Some basic setup:\n",
    "# Setup detectron2 logger\n",
    "import detectron2\n",
    "from detectron2.utils.logger import setup_logger\n",
    "\n",
    "setup_logger()\n",
    "\n",
    "# import some common libraries\n",
    "import numpy as np\n",
    "import os, json, cv2, random\n",
    "\n",
    "# import some common detectron2 utilities\n",
    "from detectron2 import model_zoo\n",
    "from detectron2.engine import DefaultPredictor\n",
    "from detectron2.config import get_cfg\n",
    "from detectron2.utils.visualizer import Visualizer\n",
    "from matplotlib import pyplot as plt\n",
    "from detectron2.data.datasets import register_coco_instances\n",
    "from detectron2.data import MetadataCatalog, DatasetCatalog\n",
    "import pandas as pd"
   ]
  },
  {
   "cell_type": "code",
   "execution_count": null,
   "metadata": {},
   "outputs": [],
   "source": [
    "dataset = fo.Dataset.from_dir(\n",
    "    dataset_dir=\"prepared\",\n",
    "    dataset_type=fo.types.FiftyOneDataset,\n",
    ")\n"
   ]
  },
  {
   "cell_type": "code",
   "execution_count": null,
   "metadata": {},
   "outputs": [],
   "source": [
    "def split_dataset(dataset):\n",
    "        # Tag test images.\n",
    "    testset_view = dataset.take(round(0.1 * len(dataset)), seed=42)\n",
    "\n",
    "\n",
    "\n",
    "    testset_view.tag_samples(\"test\")\n",
    "\n",
    "    # Split remaining images into train and valid.\n",
    "    nontestset_view = dataset.match_tags(\"test\", bool=False)\n",
    "    validset_view = nontestset_view.take(\n",
    "        round(0.2 * len(nontestset_view)), seed=42\n",
    "    )\n",
    "    validset_view.tag_samples(\"valid\")\n",
    "    nontestset_view.match_tags(\"valid\", bool=False).tag_samples(\"train\")\n",
    "    dataset.save()\n",
    "    return dataset"
   ]
  },
  {
   "cell_type": "code",
   "execution_count": null,
   "metadata": {},
   "outputs": [],
   "source": [
    "dataset.default_classes"
   ]
  },
  {
   "cell_type": "code",
   "execution_count": null,
   "metadata": {},
   "outputs": [],
   "source": [
    "def get_fiftyone_dicts(dataset):\n",
    "    dataset.compute_metadata()\n",
    "\n",
    "    dataset_dicts = []\n",
    "    for sample in dataset:\n",
    "        height = sample.metadata[\"height\"]\n",
    "        width = sample.metadata[\"width\"]\n",
    "        record = {}\n",
    "        record[\"file_name\"] = sample.filepath\n",
    "        record[\"image_id\"] = sample.id\n",
    "        record[\"height\"] = height\n",
    "        record[\"width\"] = width\n",
    "\n",
    "        objs = []\n",
    "        for det in sample.ground_truth.detections:\n",
    "            tlx, tly, w, h = det.bounding_box\n",
    "            bbox = [int(tlx*width), int(tly*height), int(w*width), int(h*height)]\n",
    "\n",
    "            obj = {\n",
    "                \"bbox\": bbox,\n",
    "                \"bbox_mode\": BoxMode.XYWH_ABS,\n",
    "                \"category_id\": dataset.default_classes.index(det.label),\n",
    "            }\n",
    "            objs.append(obj)\n",
    "\n",
    "        record[\"annotations\"] = objs\n",
    "        dataset_dicts.append(record)\n",
    "\n",
    "    return dataset_dicts\n"
   ]
  },
  {
   "cell_type": "code",
   "execution_count": null,
   "metadata": {},
   "outputs": [],
   "source": [
    "for d in [\"train\", \"valid\"]:\n",
    "    view = dataset.match_tags(d)\n",
    "    DatasetCatalog.register(\"fiftyone_\" + d, lambda view=view: get_fiftyone_dicts(view))\n",
    "    MetadataCatalog.get(\"fiftyone_\" + d).thing_classes=['cocoa', 'invalid']\n",
    "\n",
    "metadata = MetadataCatalog.get(\"fiftyone_train\")\n"
   ]
  },
  {
   "cell_type": "code",
   "execution_count": null,
   "metadata": {},
   "outputs": [],
   "source": [
    "print(metadata)"
   ]
  },
  {
   "cell_type": "code",
   "execution_count": null,
   "metadata": {},
   "outputs": [],
   "source": [
    "dataset_dicts = get_fiftyone_dicts(dataset.match_tags(\"train\"))\n",
    "ids = [dd[\"image_id\"] for dd in dataset_dicts]\n",
    "\n",
    "view = dataset.select(ids)\n",
    "session = fo.launch_app(view)"
   ]
  },
  {
   "cell_type": "code",
   "execution_count": null,
   "metadata": {},
   "outputs": [],
   "source": [
    "session.freeze()  # screenshot the App"
   ]
  },
  {
   "cell_type": "code",
   "execution_count": null,
   "metadata": {},
   "outputs": [],
   "source": [
    "label_count = view.count_values(\"ground_truth.detections.label\")\n",
    "print(label_count)"
   ]
  },
  {
   "cell_type": "code",
   "execution_count": null,
   "metadata": {},
   "outputs": [],
   "source": [
    "from detectron2.engine import DefaultTrainer\n",
    "\n",
    "cfg = get_cfg()\n",
    "cfg.OUTPUT_DIR = \"detectron_files/models\"\n",
    "#cfg.merge_from_file(model_zoo.get_config_file(\"\"))\n",
    "cfg.DATASETS.TRAIN = (\"fiftyone_train\",)\n",
    "cfg.DATASETS.TEST = ()\n",
    "cfg.DATALOADER.NUM_WORKERS = 2\n",
    "cfg.TEST.EVAL_PERIOD = 1000\n",
    "#cfg.MODEL.WEIGHTS = model_zoo.get_checkpoint_url(\"\")  # Let training initialize from model zoo\n",
    "cfg.SOLVER.IMS_PER_BATCH = 4  # This is the real \"batch size\" commonly known to deep learning people\n",
    "cfg.SOLVER.BASE_LR = 0.00001  # pick a good LR\n",
    "cfg.SOLVER.MAX_ITER = 10000    # 300 iterations seems good enough for this toy dataset; you will need to train longer for a practical dataset\n",
    "cfg.SOLVER.STEPS = [] # do not decay learning rate\n",
    "cfg.SOLVER.AMP.ENABLED = True\n",
    "cfg.MODEL.ROI_HEADS.BATCH_SIZE_PER_IMAGE = 64  # The \"RoIHead batch size\". 128 is faster, and good enough for this toy dataset (default: 512)\n",
    "cfg.MODEL.ROI_HEADS.NUM_CLASSES = 2  # only has one class (Vehicle registration plate). (see https://detectron2.readthedocs.io/tutorials/datasets."
   ]
  },
  {
   "cell_type": "code",
   "execution_count": null,
   "metadata": {},
   "outputs": [],
   "source": [
    "from detectron2.engine import DefaultTrainer\n",
    "from detectron2.evaluation import COCOEvaluator\n",
    "\n",
    "class CocoTrainer(DefaultTrainer):\n",
    "\n",
    "  @classmethod\n",
    "  def build_evaluator(cls, cfg, dataset_name, output_folder=None):\n",
    "\n",
    "    if output_folder is None:\n",
    "        os.makedirs(\"coco_eval\", exist_ok=True)\n",
    "        output_folder = \"coco_eval\"\n",
    "\n",
    "    return COCOEvaluator(dataset_name, cfg, False, output_folder)"
   ]
  },
  {
   "cell_type": "code",
   "execution_count": null,
   "metadata": {},
   "outputs": [],
   "source": [
    "#html#update-the-config-for-new-datasets)\n",
    "# NOTE: this config means the number of classes, but a few popular unofficial tutorials incorrect uses num_classes+1 here.\n",
    "\n",
    "os.makedirs(cfg.OUTPUT_DIR, exist_ok=True)\n",
    "trainer = DefaultTrainer(cfg)\n",
    "trainer.resume_or_load(resume=False)\n",
    "trainer.train()"
   ]
  },
  {
   "cell_type": "code",
   "execution_count": null,
   "metadata": {},
   "outputs": [],
   "source": [
    "# Inference should use the config with parameters that are used in training\n",
    "# cfg now already contains everything we've set previously. We changed it a little bit for inference:\n",
    "cfg.MODEL.WEIGHTS = os.path.join(cfg.OUTPUT_DIR, \"model_final.pth\")  # path to the model we just trained\n",
    "cfg.MODEL.ROI_HEADS.SCORE_THRESH_TEST = 0.7   # set a custom testing threshold\n",
    "predictor = DefaultPredictor(cfg)"
   ]
  },
  {
   "cell_type": "code",
   "execution_count": null,
   "metadata": {},
   "outputs": [],
   "source": [
    "def detectron_to_fo(outputs, img_w, img_h):\n",
    "    # format is documented at https://detectron2.readthedocs.io/tutorials/models.html#model-output-format\n",
    "    detections = []\n",
    "    instances = outputs[\"instances\"].to(\"cpu\")\n",
    "    for pred_box, score, c in zip(\n",
    "        instances.pred_boxes, instances.scores, instances.pred_classes,\n",
    "    ):\n",
    "        x1, y1, x2, y2 = pred_box\n",
    "        bbox = [float(x1)/img_w, float(y1)/img_h, float(x2-x1)/img_w, float(y2-y1)/img_h]\n",
    "        detection = fo.Detection(label=dataset.default_classes[c], confidence=float(score), bounding_box=bbox, )\n",
    "        detections.append(detection)\n",
    "\n",
    "    return fo.Detections(detections=detections)"
   ]
  },
  {
   "cell_type": "code",
   "execution_count": null,
   "metadata": {},
   "outputs": [],
   "source": [
    "for sample in dataset:\n",
    "    img_w = sample.metadata[\"width\"]\n",
    "    img_h = sample.metadata[\"height\"]\n",
    "    img = cv2.imread(sample[\"filepath\"])\n",
    "    outputs = predictor(img)\n",
    "    detections = detectron_to_fo(outputs, img_w, img_h)\n",
    "    sample[\"predictions\"] = detections\n",
    "    sample.save()"
   ]
  },
  {
   "cell_type": "code",
   "execution_count": null,
   "metadata": {},
   "outputs": [],
   "source": [
    "print(outputs['instances'].pred_classes)"
   ]
  },
  {
   "cell_type": "code",
   "execution_count": null,
   "metadata": {},
   "outputs": [],
   "source": [
    "fo.Session(dataset)"
   ]
  },
  {
   "cell_type": "code",
   "execution_count": null,
   "metadata": {},
   "outputs": [],
   "source": [
    "splits = ['train','valid','test']\n",
    "for split_tag in splits:\n",
    "    view = dataset.match_tags([split_tag])\n",
    "\n",
    "    # Evaluate the objects in the `predictions`\n",
    "    # field with respect to the\n",
    "    # objects in the `ground_truth` field\n",
    "    eval_key = f\"eval_predictions_{split_tag}\"\n",
    "    results = view.evaluate_detections(\n",
    "        \"predictions\",\n",
    "        gt_field=\"ground_truth\",\n",
    "        eval_key=eval_key,\n",
    "        compute_mAP=True,\n",
    "        classes=dataset.default_classes,\n",
    "        missing=\"background\",\n",
    "        classwise=True,\n",
    "    )\n",
    "    # whether to consider objects with different label\n",
    "    # values as always non-overlapping (True) or to compute IoUs\n",
    "    # for all objects regardless of label (False)\n",
    "\n",
    "    # the COCO mAP evaluator averages the mAP\n",
    "    # over 10 IoU thresholds from 0.5 to 0.95\n",
    "    # with a step size of 0.05 (AP@[0.5:0.05:0.95])\n",
    "    # To be found in the source of fiftyone.\n",
    "    # \"https://github.com/voxel51/fiftyone/blob/\"\n",
    "    # \"acf3a8f886505d852903e320d057057813261993/fiftyone/\"\n",
    "    # \"utils/eval/coco.py#L91\"\n",
    "    mAP = results.mAP()\n",
    "    print(f\"mAP@[0.5:0.05:0.95] {split_tag} : \" + str(mAP))\n",
    "    classwise_ap_df = pd.DataFrame(\n",
    "        columns=[\"Label\", \"AP@[0.5:0.05:0.95]\"]\n",
    "    )\n",
    "    for label in dataset.default_classes:\n",
    "        class_AP = results.mAP([label])\n",
    "        print(\n",
    "            f\"AP@[0.5:0.05:0.95] of {split_tag} ({label}): \"\n",
    "            + str(class_AP)\n",
    "        )\n",
    "        classwise_ap_df = classwise_ap_df._append(\n",
    "            {\"Label\": label, \"AP@[0.5:0.05:0.95]\": class_AP},\n",
    "            ignore_index=True,\n",
    "        )\n",
    "\n",
    "\n",
    "    results.print_report()\n",
    "    report = results.report()\n",
    "    weighted_avg_precision = report[\"weighted avg\"][\"precision\"]\n",
    "    weighted_avg_recall = report[\"weighted avg\"][\"recall\"]\n",
    "\n",
    "\n",
    "    # Print some statistics about the total TP/FP/FN counts\n",
    "    mean_tp = view.sum(f\"{eval_key}_tp\")\n",
    "    mean_fp = view.sum(f\"{eval_key}_fp\")\n",
    "    mean_fn = view.sum(f\"{eval_key}_fn\")\n",
    "    print(f\"TP ({split_tag}): {mean_tp}\")\n",
    "    print(f\"FP ({split_tag}): {mean_fp}\")\n",
    "    print(f\"FN ({split_tag}): {mean_fn}\")\n",
    "\n",
    "\n",
    "    # class_counts = view.count_values(\"predictions.detections.label\")\n",
    "\n",
    "    # pr_curve_path = os.path.join(\n",
    "    #     artifacts_path, f\"PR_curve_{split_tag}.png\"\n",
    "    # )\n",
    "    # pr_curve_plot: Figure = results.plot_pr_curves(\n",
    "    #     classes=list(class_counts.keys()),\n",
    "    #     backend=\"matplotlib\",\n",
    "    #     style=\"dark_background\",\n",
    "    # )\n",
    "    # pr_curve_plot.savefig(pr_curve_path, dpi=250)\n",
    "    # mlflow.log_artifact(pr_curve_path)\n",
    "\n",
    "    # conf_mat_path = os.path.join(\n",
    "    #     self.artifacts_path, f\"confusion_matrix_{split_tag}.png\"\n",
    "    # )\n",
    "    # conf_mat_plot: Figure = results.plot_confusion_matrix(\n",
    "    #     backend=\"matplotlib\"\n",
    "    # )\n",
    "    # conf_mat_plot.savefig(conf_mat_path, dpi=250)\n",
    "    # mlflow.log_artifact(conf_mat_path)\n",
    "\n",
    "    # mlflow.end_run()\n",
    "\n",
    "    # return dataset\n"
   ]
  }
 ],
 "metadata": {
  "kernelspec": {
   "display_name": "Python 3",
   "language": "python",
   "name": "python3"
  },
  "language_info": {
   "codemirror_mode": {
    "name": "ipython",
    "version": 3
   },
   "file_extension": ".py",
   "mimetype": "text/x-python",
   "name": "python",
   "nbconvert_exporter": "python",
   "pygments_lexer": "ipython3",
   "version": "3.11.0"
  },
  "orig_nbformat": 4
 },
 "nbformat": 4,
 "nbformat_minor": 2
}
