{
 "cells": [
  {
   "cell_type": "code",
   "execution_count": null,
   "metadata": {
    "colab": {
     "base_uri": "https://localhost:8080/"
    },
    "executionInfo": {
     "elapsed": 3686,
     "status": "ok",
     "timestamp": 1673426985149,
     "user": {
      "displayName": "Chandra Sekhar Pragada",
      "userId": "00516643550452190793"
     },
     "user_tz": -330
    },
    "id": "8QHUVxStHioG",
    "outputId": "d774b91a-c90f-4c13-f17d-4fc2faf6923d"
   },
   "outputs": [],
   "source": [
    "from google.colab import drive\n",
    "drive.mount('/content/gdrive')"
   ]
  },
  {
   "cell_type": "code",
   "execution_count": null,
   "metadata": {
    "colab": {
     "base_uri": "https://localhost:8080/",
     "height": 36
    },
    "executionInfo": {
     "elapsed": 18,
     "status": "ok",
     "timestamp": 1673426987201,
     "user": {
      "displayName": "Chandra Sekhar Pragada",
      "userId": "00516643550452190793"
     },
     "user_tz": -330
    },
    "id": "DdHRfiK7HiW1",
    "outputId": "93348ba0-1382-4ed1-f974-fae0a02e2519"
   },
   "outputs": [],
   "source": [
    "import os\n",
    "os.chdir('/content/gdrive/')\n",
    "os.getcwd()"
   ]
  },
  {
   "cell_type": "code",
   "execution_count": 24,
   "metadata": {
    "executionInfo": {
     "elapsed": 14,
     "status": "ok",
     "timestamp": 1673426989291,
     "user": {
      "displayName": "Chandra Sekhar Pragada",
      "userId": "00516643550452190793"
     },
     "user_tz": -330
    },
    "id": "vuAU5y-IHh1t"
   },
   "outputs": [],
   "source": [
    "path = '/content/gdrive/MyDrive/'\n",
    "files = os.listdir(path)"
   ]
  },
  {
   "cell_type": "code",
   "execution_count": 25,
   "metadata": {
    "executionInfo": {
     "elapsed": 4,
     "status": "ok",
     "timestamp": 1673426991475,
     "user": {
      "displayName": "Chandra Sekhar Pragada",
      "userId": "00516643550452190793"
     },
     "user_tz": -330
    },
    "id": "8nwYbx6vp8_n"
   },
   "outputs": [],
   "source": [
    "import numpy as np\n",
    "import os\n",
    "import time\n",
    "from keras import backend as K\n",
    "from keras import applications\n",
    "from keras.preprocessing.image import ImageDataGenerator\n",
    "from keras import optimizers\n",
    "from keras.models import Sequential, Model, load_model \n",
    "from keras.layers import Dropout, Flatten, Dense, GlobalAveragePooling2D, Input\n",
    "from keras import backend as k \n",
    "from keras.callbacks import ModelCheckpoint, LearningRateScheduler, TensorBoard, EarlyStopping\n",
    "from keras.optimizers import Adam, RMSprop, SGD\n",
    "from keras.preprocessing.image import ImageDataGenerator\n",
    "\n",
    "from sklearn.model_selection import cross_val_score\n",
    "from sklearn.preprocessing import LabelEncoder\n",
    "from sklearn.model_selection import StratifiedKFold\n",
    "from sklearn.preprocessing import StandardScaler\n",
    "from sklearn.pipeline import Pipeline"
   ]
  },
  {
   "cell_type": "code",
   "execution_count": 26,
   "metadata": {
    "executionInfo": {
     "elapsed": 4,
     "status": "ok",
     "timestamp": 1673426994260,
     "user": {
      "displayName": "Chandra Sekhar Pragada",
      "userId": "00516643550452190793"
     },
     "user_tz": -330
    },
    "id": "yLyHvhBZp8_u"
   },
   "outputs": [],
   "source": [
    "import cv2\n",
    "import pickle\n",
    "%matplotlib inline\n",
    "import matplotlib.pyplot as plt\n",
    "import matplotlib.image as mpimg"
   ]
  },
  {
   "cell_type": "code",
   "execution_count": 27,
   "metadata": {
    "executionInfo": {
     "elapsed": 5,
     "status": "ok",
     "timestamp": 1673426996183,
     "user": {
      "displayName": "Chandra Sekhar Pragada",
      "userId": "00516643550452190793"
     },
     "user_tz": -330
    },
    "id": "jS1-55mqp8_v"
   },
   "outputs": [],
   "source": [
    "def data_to_features(model,path,out):\n",
    "    feature_dict={0:[],1:[]}\n",
    "    classes=['0','1']\n",
    "    for i in classes:\n",
    "        l=os.listdir(path+i+'/')\n",
    "        for j in l:\n",
    "            im = cv2.imread(path+i+'/'+j)\n",
    "            im = cv2.resize(cv2.cvtColor(im, cv2.COLOR_BGR2RGB), (224, 224)).astype(np.float32) / 255.0\n",
    "            im = np.expand_dims(im, axis =0)\n",
    "            feature_dict[int(i)].append(model.predict(im))\n",
    "    pickle.dump(feature_dict, open(out, \"wb\" ))\n",
    "    return feature_dict"
   ]
  },
  {
   "cell_type": "code",
   "execution_count": 28,
   "metadata": {
    "executionInfo": {
     "elapsed": 637,
     "status": "ok",
     "timestamp": 1673427001859,
     "user": {
      "displayName": "Chandra Sekhar Pragada",
      "userId": "00516643550452190793"
     },
     "user_tz": -330
    },
    "id": "jurI_Cwdp8_x"
   },
   "outputs": [],
   "source": [
    "model=load_model('/content/gdrive/MyDrive/VGG19-SVM-Model-master/VGG19-SVM-Model-master/VGG16FT.hdf5')\n"
   ]
  },
  {
   "cell_type": "code",
   "execution_count": 29,
   "metadata": {
    "executionInfo": {
     "elapsed": 1510,
     "status": "ok",
     "timestamp": 1673427005459,
     "user": {
      "displayName": "Chandra Sekhar Pragada",
      "userId": "00516643550452190793"
     },
     "user_tz": -330
    },
    "id": "fYmNxyg4IwkM"
   },
   "outputs": [],
   "source": [
    "model_till_flatten = Model(inputs=model.input,outputs=model.get_layer('flatten').output)\n",
    "model_till_fc1 = Model(inputs=model.input,outputs=model.get_layer('dense').output)"
   ]
  },
  {
   "cell_type": "code",
   "execution_count": null,
   "metadata": {
    "colab": {
     "base_uri": "https://localhost:8080/"
    },
    "executionInfo": {
     "elapsed": 7205,
     "status": "ok",
     "timestamp": 1673427015070,
     "user": {
      "displayName": "Chandra Sekhar Pragada",
      "userId": "00516643550452190793"
     },
     "user_tz": -330
    },
    "id": "zwCtSJQvp8_y",
    "outputId": "7073d3cf-a918-4b1b-d51d-d08c0bb54091"
   },
   "outputs": [],
   "source": [
    "feature_dict0=data_to_features(model_till_flatten,'/content/gdrive/MyDrive/VGG16SVM- 110123/MyData/Train/','/content/gdrive/MyDrive/VGG16SVM- 110123/features_till_flatten.pkl')"
   ]
  },
  {
   "cell_type": "code",
   "execution_count": null,
   "metadata": {
    "colab": {
     "base_uri": "https://localhost:8080/"
    },
    "executionInfo": {
     "elapsed": 7786,
     "status": "ok",
     "timestamp": 1673427026425,
     "user": {
      "displayName": "Chandra Sekhar Pragada",
      "userId": "00516643550452190793"
     },
     "user_tz": -330
    },
    "id": "N0tbSEItp8_z",
    "outputId": "9cd8ce6e-3d2d-4954-cb11-9913405ef378"
   },
   "outputs": [],
   "source": [
    "feature_dict1=data_to_features(model_till_fc1,'/content/gdrive/MyDrive/VGG16SVM- 110123/MyData/Train/','/content/gdrive/MyDrive/VGG16SVM- 110123/features_till_fc1.pkl')"
   ]
  },
  {
   "cell_type": "code",
   "execution_count": null,
   "metadata": {
    "colab": {
     "base_uri": "https://localhost:8080/"
    },
    "executionInfo": {
     "elapsed": 356,
     "status": "ok",
     "timestamp": 1673427030956,
     "user": {
      "displayName": "Chandra Sekhar Pragada",
      "userId": "00516643550452190793"
     },
     "user_tz": -330
    },
    "id": "2OzJsV-Ip8_z",
    "outputId": "ebbb3521-4400-42de-d882-235fe1b40fd5"
   },
   "outputs": [],
   "source": [
    "feature_dict0[0][0].shape"
   ]
  },
  {
   "cell_type": "code",
   "execution_count": null,
   "metadata": {
    "colab": {
     "base_uri": "https://localhost:8080/"
    },
    "executionInfo": {
     "elapsed": 4,
     "status": "ok",
     "timestamp": 1673427034266,
     "user": {
      "displayName": "Chandra Sekhar Pragada",
      "userId": "00516643550452190793"
     },
     "user_tz": -330
    },
    "id": "lHZYdknbp8_1",
    "outputId": "031933d1-0a50-4a99-ec32-cd665a76959a"
   },
   "outputs": [],
   "source": [
    "feature_dict1[0][0].shape"
   ]
  },
  {
   "cell_type": "code",
   "execution_count": null,
   "metadata": {
    "colab": {
     "base_uri": "https://localhost:8080/"
    },
    "executionInfo": {
     "elapsed": 22324,
     "status": "ok",
     "timestamp": 1673427132738,
     "user": {
      "displayName": "Chandra Sekhar Pragada",
      "userId": "00516643550452190793"
     },
     "user_tz": -330
    },
    "id": "puJCZbWap8_2",
    "outputId": "9745f860-52ea-44d9-ca37-dbf22f1ea5e3"
   },
   "outputs": [],
   "source": [
    "feature_dict2=data_to_features(model_till_flatten,'/content/gdrive/MyDrive/VGG16SVM- 110123/MyData/Validation/','/content/gdrive/MyDrive/features_till_flatten_validation.pkl')"
   ]
  },
  {
   "cell_type": "code",
   "execution_count": null,
   "metadata": {
    "colab": {
     "base_uri": "https://localhost:8080/"
    },
    "executionInfo": {
     "elapsed": 396,
     "status": "ok",
     "timestamp": 1673427135105,
     "user": {
      "displayName": "Chandra Sekhar Pragada",
      "userId": "00516643550452190793"
     },
     "user_tz": -330
    },
    "id": "6m9E1yBrp8_3",
    "outputId": "d066fdf0-7342-46d7-de31-35581cb7007f"
   },
   "outputs": [],
   "source": [
    "feature_dict2[0][0].shape"
   ]
  },
  {
   "cell_type": "code",
   "execution_count": null,
   "metadata": {
    "colab": {
     "base_uri": "https://localhost:8080/",
     "height": 304
    },
    "executionInfo": {
     "elapsed": 630,
     "status": "error",
     "timestamp": 1673427217105,
     "user": {
      "displayName": "Chandra Sekhar Pragada",
      "userId": "00516643550452190793"
     },
     "user_tz": -330
    },
    "id": "6IYKQoSdp8_4",
    "outputId": "88237870-ef5d-40e8-8c5a-261e4c8bf6c4"
   },
   "outputs": [],
   "source": [
    "feature_dict2=data_to_features(model_till_flatten,'/content/gdrive/MyDrive/VGG16SVM- 110123/MyData/uo/','/content/gdrive/MyDrive/features_till_flatten_testing.pkl')"
   ]
  },
  {
   "cell_type": "code",
   "execution_count": null,
   "metadata": {
    "colab": {
     "base_uri": "https://localhost:8080/"
    },
    "executionInfo": {
     "elapsed": 5127,
     "status": "ok",
     "timestamp": 1673427212993,
     "user": {
      "displayName": "Chandra Sekhar Pragada",
      "userId": "00516643550452190793"
     },
     "user_tz": -330
    },
    "id": "Ww4N8xFwCKjp",
    "outputId": "3704b2a8-d4cd-46ed-ea6f-081d8b991f91"
   },
   "outputs": [],
   "source": [
    "from google.colab import drive\n",
    "drive.mount('/content/drive')"
   ]
  },
  {
   "cell_type": "code",
   "execution_count": null,
   "metadata": {
    "id": "T-dCLZoK-jZw"
   },
   "outputs": [],
   "source": []
  }
 ],
 "metadata": {
  "accelerator": "GPU",
  "colab": {
   "provenance": []
  },
  "gpuClass": "standard",
  "kernelspec": {
   "display_name": "Python 3",
   "language": "python",
   "name": "python3"
  },
  "language_info": {
   "codemirror_mode": {
    "name": "ipython",
    "version": 3
   },
   "file_extension": ".py",
   "mimetype": "text/x-python",
   "name": "python",
   "nbconvert_exporter": "python",
   "pygments_lexer": "ipython3",
   "version": "3.5.2"
  }
 },
 "nbformat": 4,
 "nbformat_minor": 0
}
