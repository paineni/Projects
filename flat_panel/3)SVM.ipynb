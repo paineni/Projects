{
 "cells": [
  {
   "cell_type": "code",
   "execution_count": null,
   "metadata": {
    "colab": {
     "base_uri": "https://localhost:8080/"
    },
    "executionInfo": {
     "elapsed": 31624,
     "status": "ok",
     "timestamp": 1673417114279,
     "user": {
      "displayName": "Chandra Sekhar Pragada",
      "userId": "00516643550452190793"
     },
     "user_tz": -330
    },
    "id": "R0tAc86mL1DU",
    "outputId": "c6b306fe-d235-4dd5-fdf6-60a66ce1fd52"
   },
   "outputs": [],
   "source": [
    "from google.colab import drive\n",
    "drive.mount('/content/gdrive')"
   ]
  },
  {
   "cell_type": "code",
   "execution_count": null,
   "metadata": {
    "colab": {
     "base_uri": "https://localhost:8080/",
     "height": 36
    },
    "executionInfo": {
     "elapsed": 18,
     "status": "ok",
     "timestamp": 1673417117678,
     "user": {
      "displayName": "Chandra Sekhar Pragada",
      "userId": "00516643550452190793"
     },
     "user_tz": -330
    },
    "id": "3VOTvAi6L2QH",
    "outputId": "62f2c025-ffca-4386-d31f-d6f0c2cb4b67"
   },
   "outputs": [],
   "source": [
    "import os\n",
    "os.chdir('/content/gdrive/')\n",
    "os.getcwd()"
   ]
  },
  {
   "cell_type": "code",
   "execution_count": 3,
   "metadata": {
    "executionInfo": {
     "elapsed": 6,
     "status": "ok",
     "timestamp": 1673417121264,
     "user": {
      "displayName": "Chandra Sekhar Pragada",
      "userId": "00516643550452190793"
     },
     "user_tz": -330
    },
    "id": "tXiER4ExL2lX"
   },
   "outputs": [],
   "source": [
    "path = '/content/gdrive/MyDrive/'\n",
    "files = os.listdir(path)"
   ]
  },
  {
   "cell_type": "code",
   "execution_count": 4,
   "metadata": {
    "executionInfo": {
     "elapsed": 4120,
     "status": "ok",
     "timestamp": 1673417127970,
     "user": {
      "displayName": "Chandra Sekhar Pragada",
      "userId": "00516643550452190793"
     },
     "user_tz": -330
    },
    "id": "dBH2jEyRL0B1"
   },
   "outputs": [],
   "source": [
    "import numpy as np\n",
    "import os\n",
    "import time\n",
    "import pickle\n",
    "import cv2\n",
    "%matplotlib inline\n",
    "import matplotlib.pyplot as plt\n",
    "import matplotlib.image as mpimg\n",
    "\n",
    "from keras import backend as K\n",
    "from keras import applications\n",
    "from keras.preprocessing.image import ImageDataGenerator\n",
    "from keras import optimizers\n",
    "from keras.models import Sequential, Model, load_model \n",
    "from keras.layers import Dropout, Flatten, Dense, GlobalAveragePooling2D, Input\n",
    "from keras import backend as k \n",
    "from keras.callbacks import ModelCheckpoint, LearningRateScheduler, TensorBoard, EarlyStopping\n",
    "from keras.optimizers import Adam, RMSprop, SGD\n",
    "from keras.preprocessing.image import ImageDataGenerator\n",
    "\n",
    "from sklearn.model_selection import KFold\n",
    "from sklearn.model_selection import GridSearchCV\n",
    "from sklearn.model_selection import cross_val_score\n",
    "from sklearn.model_selection import StratifiedKFold\n",
    "from sklearn.preprocessing import StandardScaler\n",
    "from sklearn.pipeline import Pipeline\n",
    "from sklearn.svm import SVC\n",
    "from sklearn.preprocessing import LabelEncoder\n",
    "from skimage.transform import resize\n",
    "from sklearn.svm import SVC"
   ]
  },
  {
   "cell_type": "code",
   "execution_count": 5,
   "metadata": {
    "executionInfo": {
     "elapsed": 1342,
     "status": "ok",
     "timestamp": 1673417134109,
     "user": {
      "displayName": "Chandra Sekhar Pragada",
      "userId": "00516643550452190793"
     },
     "user_tz": -330
    },
    "id": "u8ZcLIw4L0CD"
   },
   "outputs": [],
   "source": [
    "labels = []\n",
    "feature_list = []\n",
    "feature_dict=pickle.load(open('/content/gdrive/MyDrive/features_till_flatten.pkl','rb'))\n",
    "names = [0,1]\n",
    "for cat,features  in feature_dict.items():\n",
    "    labels.extend([int(cat)] * len(features))\n",
    "    feature_list.append(features)\n",
    "feature_list = np.concatenate(feature_list)"
   ]
  },
  {
   "cell_type": "code",
   "execution_count": 6,
   "metadata": {
    "executionInfo": {
     "elapsed": 7,
     "status": "ok",
     "timestamp": 1673417139707,
     "user": {
      "displayName": "Chandra Sekhar Pragada",
      "userId": "00516643550452190793"
     },
     "user_tz": -330
    },
    "id": "EIfioEZpL0CF"
   },
   "outputs": [],
   "source": [
    "feature_list1=[]\n",
    "for i in range(0,len(feature_list)):\n",
    "    feature_list1.append(feature_list[i].ravel())"
   ]
  },
  {
   "cell_type": "code",
   "execution_count": null,
   "metadata": {
    "colab": {
     "base_uri": "https://localhost:8080/"
    },
    "executionInfo": {
     "elapsed": 9,
     "status": "ok",
     "timestamp": 1673417141931,
     "user": {
      "displayName": "Chandra Sekhar Pragada",
      "userId": "00516643550452190793"
     },
     "user_tz": -330
    },
    "id": "SNZX8MPCL0CG",
    "outputId": "2cb8f03c-aa0b-46f6-a122-a6301582d3b9"
   },
   "outputs": [],
   "source": [
    "feature_list1[0].shape"
   ]
  },
  {
   "cell_type": "code",
   "execution_count": null,
   "metadata": {
    "colab": {
     "base_uri": "https://localhost:8080/"
    },
    "executionInfo": {
     "elapsed": 1366,
     "status": "ok",
     "timestamp": 1673417145734,
     "user": {
      "displayName": "Chandra Sekhar Pragada",
      "userId": "00516643550452190793"
     },
     "user_tz": -330
    },
    "id": "k5DGF4iKL0CJ",
    "outputId": "5c8c3de7-75dc-46b1-d810-bcfa004751e7"
   },
   "outputs": [],
   "source": [
    "scaler = StandardScaler().fit(feature_list1)\n",
    "rescaledX = scaler.transform(feature_list1)\n",
    "num_folds = 10\n",
    "seed = 7\n",
    "kfold = KFold(n_splits=num_folds, random_state=seed, shuffle=True)\n",
    "model = SVC()\n",
    "results = cross_val_score(model, rescaledX, labels)\n",
    "print (\"Accuracy: {} ({})\".format(results.mean()*100.0, results.std()*100.0))"
   ]
  },
  {
   "cell_type": "code",
   "execution_count": null,
   "metadata": {
    "colab": {
     "base_uri": "https://localhost:8080/"
    },
    "executionInfo": {
     "elapsed": 75444,
     "status": "ok",
     "timestamp": 1673417224522,
     "user": {
      "displayName": "Chandra Sekhar Pragada",
      "userId": "00516643550452190793"
     },
     "user_tz": -330
    },
    "id": "BH24_1GiL0CL",
    "outputId": "76eeb505-ffd3-47aa-c535-4839a27d2d23"
   },
   "outputs": [],
   "source": [
    "scoring = 'accuracy'\n",
    "\n",
    "c_values = [0.1, 0.3, 0.5, 0.7, 0.9, 1.0, 1.3, 1.5, 1.7, 2.0]\n",
    "kernel_values = [ 'linear' , 'poly' , 'rbf' , 'sigmoid' ]\n",
    "param_grid = dict(C=c_values, kernel=kernel_values)\n",
    "\n",
    "model = SVC()\n",
    "\n",
    "kfold = KFold(n_splits=num_folds, random_state=seed, shuffle= True)\n",
    "\n",
    "grid = GridSearchCV(estimator=model, param_grid=param_grid, scoring=scoring, cv=kfold)\n",
    "\n",
    "grid_result = grid.fit(rescaledX, labels)\n",
    "\n",
    "print(\"Best: %f using %s\" % (grid_result.best_score_, grid_result.best_params_))\n",
    "means = grid_result.cv_results_['mean_test_score']\n",
    "stds = grid_result.cv_results_['std_test_score']\n",
    "params = grid_result.cv_results_['params']\n",
    "for mean, stdev, param in zip(means, stds, params):\n",
    "    print(\"%f (%f) with: %r\" % (mean, stdev, param))"
   ]
  },
  {
   "cell_type": "code",
   "execution_count": 10,
   "metadata": {
    "executionInfo": {
     "elapsed": 7,
     "status": "ok",
     "timestamp": 1673417230055,
     "user": {
      "displayName": "Chandra Sekhar Pragada",
      "userId": "00516643550452190793"
     },
     "user_tz": -330
    },
    "id": "gg8Ozh-OL0CO"
   },
   "outputs": [],
   "source": [
    "tuned_model = SVC(C=0.1, kernel='rbf')"
   ]
  },
  {
   "cell_type": "code",
   "execution_count": null,
   "metadata": {
    "colab": {
     "base_uri": "https://localhost:8080/"
    },
    "executionInfo": {
     "elapsed": 7,
     "status": "ok",
     "timestamp": 1673417233682,
     "user": {
      "displayName": "Chandra Sekhar Pragada",
      "userId": "00516643550452190793"
     },
     "user_tz": -330
    },
    "id": "NcjSfiqHL0CT",
    "outputId": "8e695f04-e01d-4130-94ee-d970b0ce81d9"
   },
   "outputs": [],
   "source": [
    "tuned_model.fit(rescaledX, labels)"
   ]
  },
  {
   "cell_type": "code",
   "execution_count": 12,
   "metadata": {
    "executionInfo": {
     "elapsed": 624,
     "status": "ok",
     "timestamp": 1673417236720,
     "user": {
      "displayName": "Chandra Sekhar Pragada",
      "userId": "00516643550452190793"
     },
     "user_tz": -330
    },
    "id": "0elqdOnRL0CV"
   },
   "outputs": [],
   "source": [
    "labels2 = []\n",
    "feature_list = []\n",
    "feature_dict=pickle.load(open('/content/gdrive/MyDrive/features_till_flatten_validation.pkl','rb'))\n",
    "names = [0,1]\n",
    "for cat,features  in feature_dict.items():\n",
    "    labels2.extend([int(cat)] * len(features))\n",
    "    feature_list.append(features)\n",
    "feature_list = np.concatenate(feature_list)"
   ]
  },
  {
   "cell_type": "code",
   "execution_count": 13,
   "metadata": {
    "executionInfo": {
     "elapsed": 11,
     "status": "ok",
     "timestamp": 1673417241556,
     "user": {
      "displayName": "Chandra Sekhar Pragada",
      "userId": "00516643550452190793"
     },
     "user_tz": -330
    },
    "id": "Iror_B7JL0CW"
   },
   "outputs": [],
   "source": [
    "feature_list2=[]\n",
    "for i in range(0,len(feature_list)):\n",
    "    feature_list2.append(feature_list[i].ravel())"
   ]
  },
  {
   "cell_type": "code",
   "execution_count": null,
   "metadata": {
    "colab": {
     "base_uri": "https://localhost:8080/"
    },
    "executionInfo": {
     "elapsed": 571,
     "status": "ok",
     "timestamp": 1673417257219,
     "user": {
      "displayName": "Chandra Sekhar Pragada",
      "userId": "00516643550452190793"
     },
     "user_tz": -330
    },
    "id": "MJo-Xt00L0CW",
    "outputId": "081293b1-817c-4a0a-bffc-bf42167e4117"
   },
   "outputs": [],
   "source": [
    "rescaledX_validation = scaler.transform(feature_list2)\n",
    "\n",
    "result = tuned_model.score(rescaledX_validation, labels2)\n",
    "print('Accuracy: %.3f%%' % (result * 100.0))"
   ]
  },
  {
   "cell_type": "code",
   "execution_count": null,
   "metadata": {
    "id": "hBUjvi2mL0CX"
   },
   "outputs": [],
   "source": []
  },
  {
   "cell_type": "code",
   "execution_count": null,
   "metadata": {
    "id": "NDlRoEeqL0CX"
   },
   "outputs": [],
   "source": []
  }
 ],
 "metadata": {
  "accelerator": "GPU",
  "colab": {
   "provenance": []
  },
  "gpuClass": "standard",
  "kernelspec": {
   "display_name": "Python 3",
   "language": "python",
   "name": "python3"
  },
  "language_info": {
   "codemirror_mode": {
    "name": "ipython",
    "version": 3
   },
   "file_extension": ".py",
   "mimetype": "text/x-python",
   "name": "python",
   "nbconvert_exporter": "python",
   "pygments_lexer": "ipython3",
   "version": "3.5.2"
  }
 },
 "nbformat": 4,
 "nbformat_minor": 0
}
