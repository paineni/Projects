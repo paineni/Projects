{
 "cells": [
  {
   "cell_type": "code",
   "execution_count": null,
   "metadata": {
    "colab": {
     "base_uri": "https://localhost:8080/"
    },
    "executionInfo": {
     "elapsed": 15950,
     "status": "ok",
     "timestamp": 1687103085794,
     "user": {
      "displayName": "Chandra Sekhar Pragada",
      "userId": "00516643550452190793"
     },
     "user_tz": -120
    },
    "id": "itSCyw3ipYfv",
    "outputId": "6419543a-f810-435e-cac7-f6f42ddc2810"
   },
   "outputs": [],
   "source": [
    "from google.colab import drive\n",
    "drive.mount('/content/gdrive')"
   ]
  },
  {
   "cell_type": "code",
   "execution_count": null,
   "metadata": {
    "colab": {
     "base_uri": "https://localhost:8080/",
     "height": 35
    },
    "executionInfo": {
     "elapsed": 326,
     "status": "ok",
     "timestamp": 1687103124968,
     "user": {
      "displayName": "Chandra Sekhar Pragada",
      "userId": "00516643550452190793"
     },
     "user_tz": -120
    },
    "id": "KW42KSn9pfyA",
    "outputId": "d9687309-b815-4742-bef7-a7c439cec5ed"
   },
   "outputs": [],
   "source": [
    "import os\n",
    "os.chdir('/content/gdrive/')\n",
    "os.getcwd()"
   ]
  },
  {
   "cell_type": "code",
   "execution_count": null,
   "metadata": {
    "colab": {
     "base_uri": "https://localhost:8080/"
    },
    "executionInfo": {
     "elapsed": 2922,
     "status": "ok",
     "timestamp": 1687103130430,
     "user": {
      "displayName": "Chandra Sekhar Pragada",
      "userId": "00516643550452190793"
     },
     "user_tz": -120
    },
    "id": "C3zO_ntXNnmz",
    "outputId": "a0b9998c-1c3f-43b9-f748-9d08681dbef2"
   },
   "outputs": [],
   "source": [
    "from google.colab import drive\n",
    "drive.mount('/content/drive')"
   ]
  },
  {
   "cell_type": "code",
   "execution_count": 4,
   "metadata": {
    "executionInfo": {
     "elapsed": 360,
     "status": "ok",
     "timestamp": 1687103132647,
     "user": {
      "displayName": "Chandra Sekhar Pragada",
      "userId": "00516643550452190793"
     },
     "user_tz": -120
    },
    "id": "CXz412Aip5B4"
   },
   "outputs": [],
   "source": [
    "path = '/content/drive/MyDrive/'\n",
    "files = os.listdir(path)"
   ]
  },
  {
   "cell_type": "code",
   "execution_count": null,
   "metadata": {
    "id": "8dAgedWkp8Pi"
   },
   "outputs": [],
   "source": [
    "import tensorflow\n",
    "from tensorflow import keras\n",
    "from keras import Sequential\n",
    "from keras.layers import Dense,Flatten\n",
    "from keras.applications.vgg16 import VGG16"
   ]
  },
  {
   "cell_type": "code",
   "execution_count": null,
   "metadata": {
    "colab": {
     "base_uri": "https://localhost:8080/"
    },
    "executionInfo": {
     "elapsed": 5054,
     "status": "ok",
     "timestamp": 1675251860962,
     "user": {
      "displayName": "Chandra Sekhar Pragada",
      "userId": "00516643550452190793"
     },
     "user_tz": -60
    },
    "id": "xGeyBIoxp_ji",
    "outputId": "a5d48ac5-bb44-44f8-d809-01c0fbe86dca"
   },
   "outputs": [],
   "source": [
    "conv_base = VGG16(\n",
    "    weights='imagenet',\n",
    "    include_top = False,\n",
    "    input_shape=(224,224,3)\n",
    ")"
   ]
  },
  {
   "cell_type": "code",
   "execution_count": null,
   "metadata": {
    "colab": {
     "base_uri": "https://localhost:8080/"
    },
    "executionInfo": {
     "elapsed": 347,
     "status": "ok",
     "timestamp": 1675251863562,
     "user": {
      "displayName": "Chandra Sekhar Pragada",
      "userId": "00516643550452190793"
     },
     "user_tz": -60
    },
    "id": "rsRlwtCUqB81",
    "outputId": "cf853be6-3507-46a7-db20-11a22fe99a8d"
   },
   "outputs": [],
   "source": [
    "conv_base.trainable = True\n",
    "\n",
    "set_trainable = False\n",
    "\n",
    "for layer in conv_base.layers:\n",
    "  if layer.name == 'block5_conv1':\n",
    "    set_trainable = True\n",
    "  if set_trainable:\n",
    "    layer.trainable = True\n",
    "  else:\n",
    "    layer.trainable = False\n",
    "\n",
    "for layer in conv_base.layers:\n",
    "  print(layer.name,layer.trainable)"
   ]
  },
  {
   "cell_type": "code",
   "execution_count": null,
   "metadata": {
    "colab": {
     "base_uri": "https://localhost:8080/"
    },
    "executionInfo": {
     "elapsed": 582,
     "status": "ok",
     "timestamp": 1675251867434,
     "user": {
      "displayName": "Chandra Sekhar Pragada",
      "userId": "00516643550452190793"
     },
     "user_tz": -60
    },
    "id": "qMNnxAe8qxaj",
    "outputId": "110a38b7-10c2-42d2-fb8a-8772ee63caa2"
   },
   "outputs": [],
   "source": [
    "conv_base.summary()"
   ]
  },
  {
   "cell_type": "code",
   "execution_count": null,
   "metadata": {
    "id": "MuCh9EqrsMPK"
   },
   "outputs": [],
   "source": [
    "model = Sequential()\n",
    "\n",
    "model.add(conv_base)\n",
    "model.add(Flatten())\n",
    "model.add(Dense(256,activation='relu'))\n",
    "model.add(Dense(1,activation='sigmoid'))"
   ]
  },
  {
   "cell_type": "code",
   "execution_count": null,
   "metadata": {
    "colab": {
     "base_uri": "https://localhost:8080/"
    },
    "executionInfo": {
     "elapsed": 17,
     "status": "ok",
     "timestamp": 1675251906552,
     "user": {
      "displayName": "Chandra Sekhar Pragada",
      "userId": "00516643550452190793"
     },
     "user_tz": -60
    },
    "id": "Zfyq-DCvy0Sr",
    "outputId": "8efe75f6-6010-47eb-92f0-a8cf6862f2e4"
   },
   "outputs": [],
   "source": [
    "model.summary()"
   ]
  },
  {
   "cell_type": "code",
   "execution_count": null,
   "metadata": {
    "colab": {
     "base_uri": "https://localhost:8080/"
    },
    "executionInfo": {
     "elapsed": 2528,
     "status": "ok",
     "timestamp": 1675251935050,
     "user": {
      "displayName": "Chandra Sekhar Pragada",
      "userId": "00516643550452190793"
     },
     "user_tz": -60
    },
    "id": "js3QmFghq1AC",
    "outputId": "692cc4d2-0764-4c0a-fd99-80e02fc56ab4"
   },
   "outputs": [],
   "source": [
    "# generators\n",
    "train_ds = keras.utils.image_dataset_from_directory(\n",
    "    directory = '/content/drive/MyDrive/VGG16SVM- 110123/MyData/Train',\n",
    "    labels='inferred',\n",
    "    label_mode = 'int',\n",
    "    batch_size=5,\n",
    "    image_size=(224,224)\n",
    ")\n",
    "\n",
    "validation_ds = keras.utils.image_dataset_from_directory(\n",
    "    directory = '/content/drive/MyDrive/VGG16SVM- 110123/MyData/Validation',\n",
    "    labels='inferred',\n",
    "    label_mode = 'int',\n",
    "    batch_size=5,\n",
    "    image_size=(224,224)\n",
    ")"
   ]
  },
  {
   "cell_type": "code",
   "execution_count": null,
   "metadata": {
    "id": "DjbuBEQkr3DE"
   },
   "outputs": [],
   "source": [
    "# Normalize\n",
    "def process(image,label):\n",
    "    image = tensorflow.cast(image/255. ,tensorflow.float32)\n",
    "    return image,label\n",
    "\n",
    "train_ds = train_ds.map(process)\n",
    "validation_ds = validation_ds.map(process)"
   ]
  },
  {
   "cell_type": "code",
   "execution_count": null,
   "metadata": {
    "colab": {
     "base_uri": "https://localhost:8080/"
    },
    "executionInfo": {
     "elapsed": 346,
     "status": "ok",
     "timestamp": 1675251941659,
     "user": {
      "displayName": "Chandra Sekhar Pragada",
      "userId": "00516643550452190793"
     },
     "user_tz": -60
    },
    "id": "nxUjDM6Nr5Qp",
    "outputId": "d5e01fd5-8128-47c1-d6bc-4f313f84ae20"
   },
   "outputs": [],
   "source": [
    "model.compile(\n",
    "    optimizer=keras.optimizers.RMSprop(lr=1e-5),\n",
    "    loss='binary_crossentropy',\n",
    "    metrics=['accuracy']\n",
    "  )"
   ]
  },
  {
   "cell_type": "code",
   "execution_count": null,
   "metadata": {
    "colab": {
     "base_uri": "https://localhost:8080/"
    },
    "executionInfo": {
     "elapsed": 172790,
     "status": "ok",
     "timestamp": 1675252121618,
     "user": {
      "displayName": "Chandra Sekhar Pragada",
      "userId": "00516643550452190793"
     },
     "user_tz": -60
    },
    "id": "tiat79J_sG6W",
    "outputId": "71ff8ea5-7422-42a6-95cb-5b045c6a441f"
   },
   "outputs": [],
   "source": [
    "history = model.fit(train_ds,epochs=50,validation_data=validation_ds)"
   ]
  },
  {
   "cell_type": "code",
   "execution_count": null,
   "metadata": {
    "colab": {
     "base_uri": "https://localhost:8080/",
     "height": 265
    },
    "executionInfo": {
     "elapsed": 466,
     "status": "ok",
     "timestamp": 1675009698941,
     "user": {
      "displayName": "Chandra Sekhar Pragada",
      "userId": "00516643550452190793"
     },
     "user_tz": -60
    },
    "id": "M8c6eVF4sVTT",
    "outputId": "f27f5c4e-1370-4473-b5cc-182ad16b8489"
   },
   "outputs": [],
   "source": [
    "import matplotlib.pyplot as plt\n",
    "\n",
    "plt.plot(history.history['accuracy'],color='red',label='train')\n",
    "plt.plot(history.history['val_accuracy'],color='blue',label='validation')\n",
    "plt.legend()\n",
    "plt.show()"
   ]
  },
  {
   "cell_type": "code",
   "execution_count": null,
   "metadata": {
    "colab": {
     "base_uri": "https://localhost:8080/",
     "height": 269
    },
    "executionInfo": {
     "elapsed": 664,
     "status": "ok",
     "timestamp": 1675009705122,
     "user": {
      "displayName": "Chandra Sekhar Pragada",
      "userId": "00516643550452190793"
     },
     "user_tz": -60
    },
    "id": "Ap3-7R0swWTo",
    "outputId": "2560cbb1-a9a7-4e1b-9011-2a884b930d36"
   },
   "outputs": [],
   "source": [
    "plt.plot(history.history['loss'],color='red',label='train')\n",
    "plt.plot(history.history['val_loss'],color='blue',label='validation')\n",
    "plt.legend()\n",
    "plt.show()"
   ]
  },
  {
   "cell_type": "code",
   "execution_count": null,
   "metadata": {
    "id": "Yb8ocI6PwX-d"
   },
   "outputs": [],
   "source": [
    "model.save('/content/drive/MyDrive/VGG16SVM- 110123/VGG16FT1.hdf5')"
   ]
  },
  {
   "cell_type": "code",
   "execution_count": null,
   "metadata": {
    "id": "Ir5NwBfe1q9q"
   },
   "outputs": [],
   "source": []
  }
 ],
 "metadata": {
  "accelerator": "GPU",
  "colab": {
   "provenance": [
    {
     "file_id": "1mEWfubs2tR0CkqyxqP49cK30n7V5_NCm",
     "timestamp": 1673256690039
    }
   ]
  },
  "gpuClass": "standard",
  "kernelspec": {
   "display_name": "Python 3",
   "name": "python3"
  },
  "language_info": {
   "name": "python"
  }
 },
 "nbformat": 4,
 "nbformat_minor": 0
}
