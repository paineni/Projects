{
 "cells": [
  {
   "cell_type": "code",
   "execution_count": null,
   "metadata": {
    "colab": {
     "base_uri": "https://localhost:8080/"
    },
    "executionInfo": {
     "elapsed": 19818,
     "status": "ok",
     "timestamp": 1673417353104,
     "user": {
      "displayName": "Chandra Sekhar Pragada",
      "userId": "00516643550452190793"
     },
     "user_tz": -330
    },
    "id": "w2fZk1uTN_Ue",
    "outputId": "6ed091dd-5e16-498e-dbad-487905e50c8d"
   },
   "outputs": [],
   "source": [
    "from google.colab import drive\n",
    "drive.mount('/content/gdrive')"
   ]
  },
  {
   "cell_type": "code",
   "execution_count": null,
   "metadata": {
    "colab": {
     "base_uri": "https://localhost:8080/",
     "height": 36
    },
    "executionInfo": {
     "elapsed": 535,
     "status": "ok",
     "timestamp": 1673417355705,
     "user": {
      "displayName": "Chandra Sekhar Pragada",
      "userId": "00516643550452190793"
     },
     "user_tz": -330
    },
    "id": "wd-kY1pIN_rW",
    "outputId": "1c75aa89-9a56-4d21-e79e-4722dbc3ae57"
   },
   "outputs": [],
   "source": [
    "import os\n",
    "os.chdir('/content/gdrive/')\n",
    "os.getcwd()"
   ]
  },
  {
   "cell_type": "code",
   "execution_count": 3,
   "metadata": {
    "executionInfo": {
     "elapsed": 5,
     "status": "ok",
     "timestamp": 1673417358113,
     "user": {
      "displayName": "Chandra Sekhar Pragada",
      "userId": "00516643550452190793"
     },
     "user_tz": -330
    },
    "id": "xEYT9WrjN_zN"
   },
   "outputs": [],
   "source": [
    "path = '/content/gdrive/MyDrive/'\n",
    "files = os.listdir(path)"
   ]
  },
  {
   "cell_type": "code",
   "execution_count": 4,
   "metadata": {
    "executionInfo": {
     "elapsed": 4806,
     "status": "ok",
     "timestamp": 1673417365260,
     "user": {
      "displayName": "Chandra Sekhar Pragada",
      "userId": "00516643550452190793"
     },
     "user_tz": -330
    },
    "id": "FhnZc09ZN-ED"
   },
   "outputs": [],
   "source": [
    "import numpy as np\n",
    "import os\n",
    "import time\n",
    "import pickle\n",
    "import cv2\n",
    "%matplotlib inline\n",
    "import matplotlib.pyplot as plt\n",
    "import matplotlib.image as mpimg\n",
    "\n",
    "from keras import backend as K\n",
    "from keras import applications\n",
    "from keras.preprocessing.image import ImageDataGenerator\n",
    "from keras import optimizers\n",
    "from keras.models import Sequential, Model, load_model \n",
    "from keras.layers import Dropout, Flatten, Dense, GlobalAveragePooling2D, Input\n",
    "from keras import backend as k \n",
    "from keras.callbacks import ModelCheckpoint, LearningRateScheduler, TensorBoard, EarlyStopping\n",
    "from keras.optimizers import Adam, RMSprop, SGD\n",
    "from keras.preprocessing.image import ImageDataGenerator\n",
    "\n",
    "from sklearn.model_selection import cross_val_score\n",
    "from sklearn.model_selection import StratifiedKFold\n",
    "from sklearn.preprocessing import StandardScaler\n",
    "from sklearn.pipeline import Pipeline\n",
    "from sklearn.svm import SVC\n",
    "from sklearn.preprocessing import LabelEncoder\n",
    "from skimage.transform import resize\n",
    "from sklearn.svm import SVC"
   ]
  },
  {
   "cell_type": "code",
   "execution_count": 5,
   "metadata": {
    "executionInfo": {
     "elapsed": 1280,
     "status": "ok",
     "timestamp": 1673417368438,
     "user": {
      "displayName": "Chandra Sekhar Pragada",
      "userId": "00516643550452190793"
     },
     "user_tz": -330
    },
    "id": "nqKs2mT8N-EN"
   },
   "outputs": [],
   "source": [
    "labels = []\n",
    "feature_list = []\n",
    "feature_dict=pickle.load(open('/content/gdrive/MyDrive/features_till_flatten_validation.pkl','rb'))\n",
    "names = [0,1]\n",
    "for cat,features  in feature_dict.items():\n",
    "    labels.extend([int(cat)] * len(features))\n",
    "    feature_list.append(features)\n",
    "feature_list = np.concatenate(feature_list)"
   ]
  },
  {
   "cell_type": "code",
   "execution_count": null,
   "metadata": {
    "colab": {
     "base_uri": "https://localhost:8080/"
    },
    "executionInfo": {
     "elapsed": 8,
     "status": "ok",
     "timestamp": 1673417371710,
     "user": {
      "displayName": "Chandra Sekhar Pragada",
      "userId": "00516643550452190793"
     },
     "user_tz": -330
    },
    "id": "Ilcb9qSEN-EP",
    "outputId": "54b29bb6-a1fb-46c9-8aa2-7cd3ffd9e44b"
   },
   "outputs": [],
   "source": [
    "feature_dict"
   ]
  },
  {
   "cell_type": "code",
   "execution_count": 7,
   "metadata": {
    "executionInfo": {
     "elapsed": 499,
     "status": "ok",
     "timestamp": 1673417380398,
     "user": {
      "displayName": "Chandra Sekhar Pragada",
      "userId": "00516643550452190793"
     },
     "user_tz": -330
    },
    "id": "KOundYaXN-EQ"
   },
   "outputs": [],
   "source": [
    "feature_list1=[]\n",
    "for i in range(0,len(feature_list)):\n",
    "    feature_list1.append(feature_list[i].ravel())"
   ]
  },
  {
   "cell_type": "code",
   "execution_count": 8,
   "metadata": {
    "executionInfo": {
     "elapsed": 10,
     "status": "ok",
     "timestamp": 1673417382696,
     "user": {
      "displayName": "Chandra Sekhar Pragada",
      "userId": "00516643550452190793"
     },
     "user_tz": -330
    },
    "id": "YGlJbL4_N-ER"
   },
   "outputs": [],
   "source": [
    "clf = SVC(kernel='rbf', probability=True).fit(feature_list1,labels )"
   ]
  },
  {
   "cell_type": "code",
   "execution_count": null,
   "metadata": {
    "colab": {
     "base_uri": "https://localhost:8080/"
    },
    "executionInfo": {
     "elapsed": 17,
     "status": "ok",
     "timestamp": 1673417385829,
     "user": {
      "displayName": "Chandra Sekhar Pragada",
      "userId": "00516643550452190793"
     },
     "user_tz": -330
    },
    "id": "XFfvmtLdN-ES",
    "outputId": "3b26f3e9-e3f8-4bdf-a449-a1ae4e7618fa"
   },
   "outputs": [],
   "source": [
    "count=0\n",
    "for i in feature_list:\n",
    "    print(\"Prediction : \"+str(clf.predict(i)[0]),end='')\n",
    "    print(\"   Actual is : \"+str(labels[count]))\n",
    "    count=count+1"
   ]
  },
  {
   "cell_type": "code",
   "execution_count": null,
   "metadata": {
    "id": "i06gTDJzN-EU"
   },
   "outputs": [],
   "source": []
  },
  {
   "cell_type": "code",
   "execution_count": null,
   "metadata": {
    "id": "6hngdOJ8N-EV"
   },
   "outputs": [],
   "source": []
  },
  {
   "cell_type": "code",
   "execution_count": null,
   "metadata": {
    "id": "2bPgEH1yN-EW"
   },
   "outputs": [],
   "source": []
  },
  {
   "cell_type": "code",
   "execution_count": null,
   "metadata": {
    "id": "A3ES0g0eN-EX"
   },
   "outputs": [],
   "source": []
  },
  {
   "cell_type": "code",
   "execution_count": null,
   "metadata": {
    "id": "XGFqQGhaN-EX"
   },
   "outputs": [],
   "source": []
  },
  {
   "cell_type": "code",
   "execution_count": null,
   "metadata": {
    "id": "ZUA3ZKZrN-EY"
   },
   "outputs": [],
   "source": []
  }
 ],
 "metadata": {
  "accelerator": "GPU",
  "colab": {
   "provenance": []
  },
  "gpuClass": "standard",
  "kernelspec": {
   "display_name": "Python 3",
   "language": "python",
   "name": "python3"
  },
  "language_info": {
   "codemirror_mode": {
    "name": "ipython",
    "version": 3
   },
   "file_extension": ".py",
   "mimetype": "text/x-python",
   "name": "python",
   "nbconvert_exporter": "python",
   "pygments_lexer": "ipython3",
   "version": "3.4.3"
  }
 },
 "nbformat": 4,
 "nbformat_minor": 0
}
